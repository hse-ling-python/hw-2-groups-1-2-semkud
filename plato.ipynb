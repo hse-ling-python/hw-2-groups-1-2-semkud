{
 "cells": [
  {
   "cell_type": "code",
   "execution_count": 69,
   "metadata": {},
   "outputs": [],
   "source": [
    "%load_ext pycodestyle_magic\n",
    "%pycodestyle_on"
   ]
  },
  {
   "cell_type": "markdown",
   "metadata": {},
   "source": [
    "Импортировали все на свете, что нам понадобится:"
   ]
  },
  {
   "cell_type": "code",
   "execution_count": 70,
   "metadata": {},
   "outputs": [],
   "source": [
    "from pymystem3 import Mystem\n",
    "from pymorphy2 import MorphAnalyzer\n",
    "from string import punctuation\n",
    "from pprint import pprint\n",
    "import collections\n",
    "import json\n",
    "\n",
    "mqw = Mystem()\n",
    "morph = MorphAnalyzer()"
   ]
  },
  {
   "cell_type": "markdown",
   "metadata": {},
   "source": [
    "# Задание 1"
   ]
  },
  {
   "cell_type": "markdown",
   "metadata": {},
   "source": [
    "Прочитали текст:"
   ]
  },
  {
   "cell_type": "code",
   "execution_count": 71,
   "metadata": {
    "scrolled": false
   },
   "outputs": [
    {
     "name": "stderr",
     "output_type": "stream",
     "text": [
      "4:1: E265 block comment should start with '# '\n",
      "4:1: E265 block comment should start with '# '\n",
      "4:1: E265 block comment should start with '# '\n"
     ]
    }
   ],
   "source": [
    "from pprint import pprint\n",
    "with open('gosudarstvo.txt', encoding='utf-8') as f:\n",
    "    text = f.read()\n",
    "#print(text)"
   ]
  },
  {
   "cell_type": "markdown",
   "metadata": {},
   "source": [
    "# Задание 2"
   ]
  },
  {
   "cell_type": "markdown",
   "metadata": {},
   "source": [
    "Парсим майстемом, у меня заняло 20 минут, поэтому я все закомментил от греха подальше, чтобы снова случайно не запустить"
   ]
  },
  {
   "cell_type": "code",
   "execution_count": 38,
   "metadata": {},
   "outputs": [],
   "source": [
    "%%time\n",
    "from pprint import pprint\n",
    "\n",
    "#ana = mqw.analyze(text)\n",
    "#pprint(ana[:20])"
   ]
  },
  {
   "cell_type": "code",
   "execution_count": 6,
   "metadata": {
    "collapsed": true
   },
   "outputs": [
    {
     "name": "stderr",
     "output_type": "stream",
     "text": [
      "1:1: E265 block comment should start with '# '\n",
      "3:1: E265 block comment should start with '# '\n"
     ]
    }
   ],
   "source": [
    "#with open('data_mystem.json', 'w', encoding='utf-8') as f:\n",
    "#    json.dump(ana, f, ensure_ascii=False)"
   ]
  },
  {
   "cell_type": "markdown",
   "metadata": {},
   "source": [
    "# Задание 3"
   ]
  },
  {
   "cell_type": "markdown",
   "metadata": {},
   "source": [
    "Теперь парсим НТЛК, это уже быстрее, но время он не пишет, потому что принт не работает!!"
   ]
  },
  {
   "cell_type": "code",
   "execution_count": 72,
   "metadata": {},
   "outputs": [],
   "source": [
    "%%time\n",
    "\n",
    "import nltk\n",
    "from nltk.tokenize import word_tokenize\n",
    "words = []\n",
    "words = word_tokenize(text)"
   ]
  },
  {
   "cell_type": "markdown",
   "metadata": {},
   "source": [
    "Сохраняем нужную нам информацию о словах"
   ]
  },
  {
   "cell_type": "code",
   "execution_count": 74,
   "metadata": {},
   "outputs": [
    {
     "name": "stderr",
     "output_type": "stream",
     "text": [
      "4:43: W291 trailing whitespace\n",
      "5:50: W291 trailing whitespace\n",
      "4:43: W291 trailing whitespace\n",
      "5:50: W291 trailing whitespace\n",
      "4:43: W291 trailing whitespace\n",
      "5:50: W291 trailing whitespace\n"
     ]
    }
   ],
   "source": [
    "analyzed = []\n",
    "for word in words:\n",
    "    razbor = morph.parse(word)[0]\n",
    "    analyzed.append({'Слово': razbor.word, \n",
    "                     'Лемма': razbor.normal_form, \n",
    "                     'Тэг': razbor.tag.POS})"
   ]
  },
  {
   "cell_type": "markdown",
   "metadata": {},
   "source": [
    "Можно посмотреть, что насохраняли..."
   ]
  },
  {
   "cell_type": "code",
   "execution_count": 68,
   "metadata": {
    "collapsed": true
   },
   "outputs": [
    {
     "name": "stderr",
     "output_type": "stream",
     "text": [
      "1:1: E265 block comment should start with '# '\n",
      "1:1: E265 block comment should start with '# '\n"
     ]
    }
   ],
   "source": [
    "#analyzed[:20]"
   ]
  },
  {
   "cell_type": "code",
   "execution_count": 75,
   "metadata": {},
   "outputs": [],
   "source": [
    "with open('data_pymorph.json', 'w', encoding='utf-8') as f:\n",
    "    json.dump(analyzed, f, ensure_ascii=False)"
   ]
  },
  {
   "cell_type": "markdown",
   "metadata": {},
   "source": [
    "# Задание 4"
   ]
  },
  {
   "cell_type": "markdown",
   "metadata": {},
   "source": [
    "Если у вхождения есть тэг, то это не знак препинания, сохраняем все тэги в список\n",
    "\n",
    "Делаем из них словарь, выводим проценты, если бы работал принт......."
   ]
  },
  {
   "cell_type": "code",
   "execution_count": 76,
   "metadata": {},
   "outputs": [],
   "source": [
    "chasti_rechi = []\n",
    "for token in analyzed:\n",
    "    if token['Тэг']:\n",
    "        chasti_rechi.append(token['Тэг'])"
   ]
  },
  {
   "cell_type": "code",
   "execution_count": 77,
   "metadata": {},
   "outputs": [],
   "source": [
    "counter = collections.Counter(chasti_rechi)\n",
    "for key in counter:\n",
    "    print(key, 'составляет', counter[key] / len(chasti_rechi) * 100, '%')"
   ]
  },
  {
   "cell_type": "markdown",
   "metadata": {},
   "source": [
    "Очень похожая операция с глаголами"
   ]
  },
  {
   "cell_type": "code",
   "execution_count": 78,
   "metadata": {},
   "outputs": [],
   "source": [
    "glagoly = []\n",
    "for token in analyzed:\n",
    "    if token['Тэг'] == 'VERB':\n",
    "        glagoly.append(token['Лемма'])"
   ]
  },
  {
   "cell_type": "code",
   "execution_count": 79,
   "metadata": {},
   "outputs": [
    {
     "data": {
      "text/plain": [
       "[('быть', 187),\n",
       " ('мочь', 49),\n",
       " ('думать', 39),\n",
       " ('говорить', 36),\n",
       " ('считать', 34),\n",
       " ('бывать', 33),\n",
       " ('стать', 33),\n",
       " ('становиться', 30),\n",
       " ('начать', 28),\n",
       " ('иметь', 24),\n",
       " ('делать', 21),\n",
       " ('называть', 21),\n",
       " ('хотеть', 18),\n",
       " ('сказать', 17),\n",
       " ('давать', 17),\n",
       " ('относиться', 16),\n",
       " ('возникать', 15),\n",
       " ('знать', 15),\n",
       " ('утверждать', 14),\n",
       " ('назвать', 14)]"
      ]
     },
     "execution_count": 79,
     "metadata": {},
     "output_type": "execute_result"
    }
   ],
   "source": [
    "counter = collections.Counter(glagoly)\n",
    "counter.most_common(20)"
   ]
  },
  {
   "cell_type": "markdown",
   "metadata": {},
   "source": [
    "И совершенно точно такая же с наречиями"
   ]
  },
  {
   "cell_type": "code",
   "execution_count": 80,
   "metadata": {},
   "outputs": [],
   "source": [
    "adverbs = []\n",
    "for token in analyzed:\n",
    "    if token['Тэг'] == 'ADVB':\n",
    "        adverbs.append(token['Лемма'])"
   ]
  },
  {
   "cell_type": "code",
   "execution_count": 87,
   "metadata": {
    "scrolled": true
   },
   "outputs": [
    {
     "data": {
      "text/plain": [
       "[('всего', 57),\n",
       " ('потому', 35),\n",
       " ('более', 32),\n",
       " ('тогда', 31),\n",
       " ('там', 31),\n",
       " ('уже', 25),\n",
       " ('теперь', 22),\n",
       " ('много', 21),\n",
       " ('пока', 19),\n",
       " ('очень', 17),\n",
       " ('никогда', 17),\n",
       " ('менее', 16),\n",
       " ('прежде', 15),\n",
       " ('здесь', 15),\n",
       " ('зло', 14),\n",
       " ('ясно', 14),\n",
       " ('уж', 14),\n",
       " ('вечно', 13),\n",
       " ('иначе', 12),\n",
       " ('совсем', 12)]"
      ]
     },
     "execution_count": 87,
     "metadata": {},
     "output_type": "execute_result"
    }
   ],
   "source": [
    "counter = collections.Counter(adverbs)\n",
    "counter.most_common(20)"
   ]
  },
  {
   "cell_type": "markdown",
   "metadata": {},
   "source": [
    "# Задание 5"
   ]
  },
  {
   "cell_type": "markdown",
   "metadata": {},
   "source": [
    "Не убирая стопслова получается грустно! Но все равно"
   ]
  },
  {
   "cell_type": "code",
   "execution_count": 88,
   "metadata": {},
   "outputs": [
    {
     "data": {
      "text/plain": [
       "[(('то', 'что'), 63),\n",
       " (('и', 'не'), 56),\n",
       " (('и', 'в'), 53),\n",
       " (('тот', 'что'), 51),\n",
       " (('тот', 'кто'), 49),\n",
       " (('не', 'быть'), 29),\n",
       " (('а', 'не'), 28),\n",
       " (('потому', 'что'), 27),\n",
       " (('он', 'не'), 27),\n",
       " (('так', 'и'), 25),\n",
       " (('такой', 'человек'), 24),\n",
       " (('из', 'они'), 24),\n",
       " (('весь', 'это'), 24),\n",
       " (('что', 'он'), 23),\n",
       " (('по', 'себя'), 22),\n",
       " (('они', 'не'), 21),\n",
       " (('в', 'тот'), 21),\n",
       " (('так', 'вот'), 20),\n",
       " (('так', 'как'), 20),\n",
       " (('что', 'они'), 20),\n",
       " (('быть', 'бы'), 20),\n",
       " (('и', 'тот'), 19),\n",
       " (('не', 'в'), 19),\n",
       " (('и', 'весь'), 19),\n",
       " (('то', 'же'), 18)]"
      ]
     },
     "execution_count": 88,
     "metadata": {},
     "output_type": "execute_result"
    }
   ],
   "source": [
    "forbgrm = []\n",
    "for token in analyzed:\n",
    "    if token['Тэг']:\n",
    "        forbgrm.append(token['Лемма'])\n",
    "bgrms = nltk.bigrams(forbgrm)\n",
    "counter = collections.Counter(bgrms)\n",
    "counter.most_common(25)"
   ]
  },
  {
   "cell_type": "code",
   "execution_count": 89,
   "metadata": {},
   "outputs": [
    {
     "data": {
      "text/plain": [
       "[(('сам', 'по', 'себя'), 13),\n",
       " (('то', 'же', 'самый'), 11),\n",
       " (('то', 'что', 'пригодный'), 8),\n",
       " (('иметь', 'в', 'вид'), 8),\n",
       " (('самый', 'по', 'себя'), 8),\n",
       " (('в', 'тот', 'что'), 8),\n",
       " (('по', 'свой', 'природа'), 8),\n",
       " (('по', 'отношение', 'к'), 7),\n",
       " (('и', 'так', 'далее'), 7),\n",
       " (('по', 'себя', 'и'), 6),\n",
       " (('один', 'и', 'тот'), 6),\n",
       " (('и', 'тот', 'же'), 6),\n",
       " (('так', 'и', 'в'), 6),\n",
       " (('а', 'между', 'тем'), 6),\n",
       " (('весь', 'то', 'что'), 6),\n",
       " (('и', 'то', 'же'), 5),\n",
       " (('о', 'тот', 'кто'), 5),\n",
       " (('ли', 'ты', 'что'), 5),\n",
       " (('справедливость', 'и', 'несправедливость'), 5),\n",
       " (('не', 'в', 'состояние'), 5),\n",
       " (('тот', 'или', 'иной'), 5),\n",
       " (('не', 'правда', 'ли'), 5),\n",
       " (('и', 'весь', 'остальной'), 5),\n",
       " (('до', 'тот', 'пора'), 5),\n",
       " (('то', 'что', 'они'), 5)]"
      ]
     },
     "execution_count": 89,
     "metadata": {},
     "output_type": "execute_result"
    }
   ],
   "source": [
    "tgrms = nltk.trigrams(forbgrm)\n",
    "counter = collections.Counter(tgrms)\n",
    "counter.most_common(25)"
   ]
  },
  {
   "cell_type": "code",
   "execution_count": null,
   "metadata": {},
   "outputs": [],
   "source": []
  }
 ],
 "metadata": {
  "kernelspec": {
   "display_name": "Python 3",
   "language": "python",
   "name": "python3"
  },
  "language_info": {
   "codemirror_mode": {
    "name": "ipython",
    "version": 3
   },
   "file_extension": ".py",
   "mimetype": "text/x-python",
   "name": "python",
   "nbconvert_exporter": "python",
   "pygments_lexer": "ipython3",
   "version": "3.7.3"
  }
 },
 "nbformat": 4,
 "nbformat_minor": 2
}
